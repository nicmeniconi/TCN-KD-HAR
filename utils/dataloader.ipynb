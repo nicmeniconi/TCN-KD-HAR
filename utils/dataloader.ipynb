{
 "cells": [
  {
   "cell_type": "code",
   "execution_count": 1,
   "metadata": {},
   "outputs": [
    {
     "name": "stdout",
     "output_type": "stream",
     "text": [
      "Intel MKL WARNING: Support of Intel(R) Streaming SIMD Extensions 4.2 (Intel(R) SSE4.2) enabled only processors has been deprecated. Intel oneAPI Math Kernel Library 2025.0 will require Intel(R) Advanced Vector Extensions (Intel(R) AVX) instructions.\n",
      "Intel MKL WARNING: Support of Intel(R) Streaming SIMD Extensions 4.2 (Intel(R) SSE4.2) enabled only processors has been deprecated. Intel oneAPI Math Kernel Library 2025.0 will require Intel(R) Advanced Vector Extensions (Intel(R) AVX) instructions.\n"
     ]
    }
   ],
   "source": [
    "import os\n",
    "import sys\n",
    "import torch\n",
    "from torch.utils.data import Dataset, DataLoader\n",
    "\n",
    "from loadutils import IMUDataset, VideoDataset, IMUVideoDataset\n",
    "\n",
    "os.environ['MKL_SERVICE_FORCE_INTEL'] = '1'\n",
    "torch.set_printoptions(threshold=torch.inf)\n",
    "sys.path.append(os.path.dirname(os.getcwd())) #Add project dir to path"
   ]
  },
  {
   "cell_type": "code",
   "execution_count": 2,
   "metadata": {},
   "outputs": [],
   "source": [
    "fulldatasetpath = '/Volumes/Data_Drive/datasets/VIDIMU'"
   ]
  },
  {
   "cell_type": "code",
   "execution_count": 3,
   "metadata": {},
   "outputs": [],
   "source": [
    "subjects = [\"S40\",\"S41\",\"S42\",  \"S44\",  \"S46\",\"S47\",\"S48\",\"S49\",\n",
    "            \"S50\",\"S51\",\"S52\",\"S53\",\"S54\",\"S55\",\"S56\",\"S57\"]\n",
    "\n",
    "lower_activities = [\"A01\",\"A02\",\"A03\",\"A04\"]\n",
    "upper_activities = [\"A05\",\"A06\",\"A07\",\"A08\",\"A09\",\"A10\",\"A11\",\"A12\",\"A13\"]\n",
    "\n",
    "dataset_activities = lower_activities + upper_activities\n",
    "\n",
    "activities_legend = [\"walk_forward\", \"walk_backward\", \"walk_along\",\"sit_to_stand\",\n",
    "\"move_right_arm\",\"move_left_arm\",\"drink_right_arm\",\"drink_left_arm\", \"assemble_both_arms\",\"throw_both_arms\",\n",
    "\"reachup_right_arm\",\"reachup_left_arm\",\"tear_both_arms\"]\n",
    "\n",
    "dpath = os.path.join(fulldatasetpath,'dataset','videoandimusyncrop')"
   ]
  },
  {
   "cell_type": "code",
   "execution_count": 4,
   "metadata": {},
   "outputs": [
    {
     "name": "stdout",
     "output_type": "stream",
     "text": [
      "IMU batch shape: torch.Size([32, 39, 100])\n",
      "Label batch shape: torch.Size([32])\n"
     ]
    }
   ],
   "source": [
    "# Example usage\n",
    "imu_dataset = IMUDataset(data_dir=dpath, window_size=100)\n",
    "imu_loader = DataLoader(imu_dataset, batch_size=32, shuffle=True)\n",
    "\n",
    "# Fetch one batch and check its shape\n",
    "imu_batch, label_batch = next(iter(imu_loader))  # Get one batch\n",
    "\n",
    "print(f'IMU batch shape: {imu_batch.shape}')  # Shape: (batch_size, num_windows, window_size, num_features)\n",
    "print(f'Label batch shape: {label_batch.shape}')  # Shape: (batch_size, window_size, num_activities)\n",
    "# print(f'Example one-hot label: {label_batch[0]}')  # Example of a one-hot label for the first sample"
   ]
  },
  {
   "cell_type": "code",
   "execution_count": 5,
   "metadata": {},
   "outputs": [
    {
     "name": "stdout",
     "output_type": "stream",
     "text": [
      "Video batch shape: torch.Size([32, 1, 100, 102])\n",
      "Label batch shape: torch.Size([32, 100, 13])\n"
     ]
    }
   ],
   "source": [
    "# Example usage for the VideoDataset\n",
    "video_dataset = VideoDataset(data_dir=dpath, window_size=100)\n",
    "video_loader = DataLoader(video_dataset, batch_size=32, shuffle=True)\n",
    "\n",
    "# Fetch one batch and check its shape\n",
    "video_batch, label_batch = next(iter(video_loader))  # Get one batch\n",
    "\n",
    "print(f'Video batch shape: {video_batch.shape}')  # Shape: (batch_size, num_windows, window_size, num_features)\n",
    "print(f'Label batch shape: {label_batch.shape}')  # Shape: (batch_size, window_size, num_activities)\n",
    "# print(f'Example one-hot label: {label_batch[0]}')  # Example of a one-hot label for the first sample"
   ]
  },
  {
   "cell_type": "code",
   "execution_count": 6,
   "metadata": {},
   "outputs": [
    {
     "name": "stdout",
     "output_type": "stream",
     "text": [
      "IMU batch shape: torch.Size([32, 1, 60, 39])\n",
      "Video batch shape: torch.Size([32, 1, 100, 102])\n",
      "Label batch shape: torch.Size([32, 60, 13])\n"
     ]
    }
   ],
   "source": [
    "# Example usage\n",
    "imu_video_dataset = IMUVideoDataset(data_dir=dpath, time_in_seconds=2)  # 2 seconds window\n",
    "imu_video_loader = DataLoader(imu_video_dataset, batch_size=32, shuffle=True)\n",
    "\n",
    "# Fetch one batch and check its shape\n",
    "imu_batch, video_batch, label_batch = next(iter(imu_video_loader))  # Get one batch\n",
    "\n",
    "print(f'IMU batch shape: {imu_batch.shape}')  # Shape: (batch_size, num_windows, imu_window_size, num_imu_features)\n",
    "print(f'Video batch shape: {video_batch.shape}')  # Shape: (batch_size, num_windows, video_window_size, num_video_features)\n",
    "print(f'Label batch shape: {label_batch.shape}')  # Shape: (batch_size, imu_window_size, num_activities)\n",
    "# print(f'Example one-hot label: {label_batch[0]}')  # Example of a one-hot label for the first sample"
   ]
  }
 ],
 "metadata": {
  "kernelspec": {
   "display_name": "Python 3.11.10",
   "language": "python",
   "name": "python3"
  },
  "language_info": {
   "codemirror_mode": {
    "name": "ipython",
    "version": 3
   },
   "file_extension": ".py",
   "mimetype": "text/x-python",
   "name": "python",
   "nbconvert_exporter": "python",
   "pygments_lexer": "ipython3",
   "version": "3.11.10"
  },
  "orig_nbformat": 4,
  "vscode": {
   "interpreter": {
    "hash": "da71b6a465872c0644f9fc84974b8bb2b3b11239b63eeaae921e05b07a27761a"
   }
  }
 },
 "nbformat": 4,
 "nbformat_minor": 2
}
