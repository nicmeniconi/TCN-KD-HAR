{
 "cells": [
  {
   "cell_type": "code",
   "execution_count": 1,
   "metadata": {},
   "outputs": [
    {
     "name": "stdout",
     "output_type": "stream",
     "text": [
      "['/Volumes/Data_Drive/datasets/VIDIMU/dataset/videoandimusyncrop/S40/S40_A01_T01.csv', '/Volumes/Data_Drive/datasets/VIDIMU/dataset/videoandimusyncrop/S40/S40_A02_T01.csv', '/Volumes/Data_Drive/datasets/VIDIMU/dataset/videoandimusyncrop/S40/S40_A03_T02.csv', '/Volumes/Data_Drive/datasets/VIDIMU/dataset/videoandimusyncrop/S40/S40_A04_T02.csv', '/Volumes/Data_Drive/datasets/VIDIMU/dataset/videoandimusyncrop/S40/S40_A05_T01.csv', '/Volumes/Data_Drive/datasets/VIDIMU/dataset/videoandimusyncrop/S40/S40_A07_T01.csv', '/Volumes/Data_Drive/datasets/VIDIMU/dataset/videoandimusyncrop/S40/S40_A09_T02.csv', '/Volumes/Data_Drive/datasets/VIDIMU/dataset/videoandimusyncrop/S40/S40_A10_T01.csv', '/Volumes/Data_Drive/datasets/VIDIMU/dataset/videoandimusyncrop/S40/S40_A11_T01.csv', '/Volumes/Data_Drive/datasets/VIDIMU/dataset/videoandimusyncrop/S40/S40_A13_T01.csv']\n"
     ]
    }
   ],
   "source": [
    "import os\n",
    "import numpy as np\n",
    "import pandas as pd\n",
    "import matplotlib.pyplot as plt\n",
    "from mpl_toolkits.mplot3d import Axes3D\n",
    "import imageio.v2 as imageio\n",
    "import io\n",
    "\n",
    "fulldatasetpath = '/Volumes/Data_Drive/datasets/VIDIMU'\n",
    "file_path = os.path.join(fulldatasetpath,'dataset','videoandimusyncrop/S40/S40_A01_T01.csv')\n",
    "acts = ['A01', 'A02', 'A03', 'A04', 'A05', 'A07', 'A09', 'A10', 'A11', 'A13']\n",
    "trs = ['T01', 'T01', 'T02', 'T02', 'T01', 'T01', 'T02', 'T01', 'T01', 'T01']\n",
    "\n",
    "paths = [os.path.join(fulldatasetpath,'dataset',f'videoandimusyncrop/S40/S40_{acts[i]}_{trs[i]}.csv') for i in range(len(acts))]\n",
    "print(paths)"
   ]
  },
  {
   "cell_type": "code",
   "execution_count": 2,
   "metadata": {},
   "outputs": [
    {
     "name": "stdout",
     "output_type": "stream",
     "text": [
      "Index(['pelvis_x', 'pelvis_y', 'pelvis_z'], dtype='object')\n"
     ]
    }
   ],
   "source": [
    "df = pd.read_csv(file_path)\n",
    "df = df.iloc[:,1:]\n",
    "print(df.columns[:3])\n",
    "joint_names_updated = [df.columns[j][:-2] for j in range(1, 103, 3)]"
   ]
  },
  {
   "cell_type": "code",
   "execution_count": 3,
   "metadata": {},
   "outputs": [
    {
     "name": "stdout",
     "output_type": "stream",
     "text": [
      "['pelvis', 'left_hip', 'right_hip', 'torso', 'left_knee', 'right_knee', 'neck', 'left_ankle', 'right_ankle', 'left_big_toe', 'right_big_toe', 'left_small_toe', 'right_small_toe', 'left_heel', 'right_heel', 'nose', 'left_eye', 'right_eye', 'left_ear', 'right_ear', 'left_shoulder', 'right_shoulder', 'left_elbow', 'right_elbow', 'left_wrist', 'right_wrist', 'left_pinky_knuckle', 'right_pinky_knuckle', 'left_middle_tip', 'right_middle_tip', 'left_index_knuckle', 'right_index_knuckle', 'left_thumb_tip', ' right_thumb_tip']\n"
     ]
    }
   ],
   "source": [
    "print(joint_names_updated)"
   ]
  },
  {
   "cell_type": "markdown",
   "metadata": {},
   "source": [
    "## Normalize"
   ]
  },
  {
   "cell_type": "code",
   "execution_count": 4,
   "metadata": {},
   "outputs": [],
   "source": [
    "import numpy as np\n",
    "import pandas as pd\n",
    "\n",
    "def normalize_joint_positions(joint_data, root_joint='pelvis', epsilon=1e-6):\n",
    "    \"\"\"\n",
    "    Normalize joint positions using a root alignment and local coordinate transformation.\n",
    "\n",
    "    Parameters:\n",
    "    - joint_data: DataFrame containing the joint positions (columns: 'joint_x', 'joint_y', 'joint_z')\n",
    "    - root_joint: The joint to be used as the reference root\n",
    "    - epsilon: Small value to avoid division by zero\n",
    "\n",
    "    Returns:\n",
    "    - normalized_data: DataFrame with normalized joint positions\n",
    "    \"\"\"\n",
    "\n",
    "    root_positions = joint_data[[f'{root_joint}_x', f'{root_joint}_y', f'{root_joint}_z']].values\n",
    "    normalized_data = joint_data.copy()\n",
    "\n",
    "    for joint in joint_names_updated:\n",
    "        normalized_data[[f'{joint}_x']] -= root_positions[:, 0][:, None]\n",
    "        normalized_data[[f'{joint}_y']] -= root_positions[:, 1][:, None]\n",
    "        normalized_data[[f'{joint}_z']] -= root_positions[:, 2][:, None]\n",
    "\n",
    "    pelvis_abs_positions = pd.DataFrame({\n",
    "        'pelvis_abs_x': root_positions[:, 0],\n",
    "        'pelvis_abs_y': root_positions[:, 1],\n",
    "        'pelvis_abs_z': root_positions[:, 2]\n",
    "    })\n",
    "\n",
    "    normalized_data = pd.concat([normalized_data, pelvis_abs_positions], axis=1)\n",
    "\n",
    "    return normalized_data\n"
   ]
  },
  {
   "cell_type": "markdown",
   "metadata": {},
   "source": [
    "## Plot"
   ]
  },
  {
   "cell_type": "code",
   "execution_count": null,
   "metadata": {},
   "outputs": [],
   "source": [
    "def plot_skeleton_frame_with_axes(ax, frame_idx, normalized_df, joint_coords_updated):\n",
    "    joints = {joint: joint_coords_updated[joint][frame_idx] for joint in joint_names_updated}\n",
    "\n",
    "    x_min, x_max = normalized_df[[f'{joint}_x' for joint in joint_names_updated]].min().min(), normalized_df[[f'{joint}_x' for joint in joint_names_updated]].max().max()\n",
    "    y_min, y_max = normalized_df[[f'{joint}_y' for joint in joint_names_updated]].min().min(), normalized_df[[f'{joint}_y' for joint in joint_names_updated]].max().max()\n",
    "    z_min, z_max = normalized_df[[f'{joint}_z' for joint in joint_names_updated]].min().min(), normalized_df[[f'{joint}_z' for joint in joint_names_updated]].max().max()\n",
    "\n",
    "    connections_updated = [\n",
    "        ('pelvis', 'left_hip'), ('pelvis', 'right_hip'),\n",
    "        ('left_hip', 'left_knee'), ('right_hip', 'right_knee'),\n",
    "        ('left_knee', 'left_ankle'), ('right_knee', 'right_ankle'),\n",
    "        ('left_ankle', 'left_heel'), ('right_ankle', 'right_heel'),\n",
    "        ('left_heel', 'left_big_toe'), ('right_heel', 'right_big_toe'),\n",
    "        ('left_heel', 'left_small_toe'), ('right_heel', 'right_small_toe'),\n",
    "        ('pelvis', 'torso'), ('torso', 'neck'), ('neck', 'nose'),\n",
    "        ('neck', 'left_shoulder'), ('neck', 'right_shoulder'),\n",
    "        ('left_shoulder', 'left_elbow'), ('right_shoulder', 'right_elbow'),\n",
    "        ('left_elbow', 'left_wrist'), ('right_elbow', 'right_wrist'),\n",
    "        ('left_wrist', 'left_pinky_knuckle'), ('right_wrist', 'right_pinky_knuckle'),\n",
    "        ('left_wrist', 'left_index_knuckle'), ('right_wrist', 'right_index_knuckle'),\n",
    "        ('left_wrist', 'left_thumb_tip'), ('right_wrist', 'right_thumb_tip')\n",
    "    ]\n",
    "\n",
    "    xs, ys, zs = [], [], []\n",
    "    for joint in joint_names_updated:\n",
    "        if joint in joints: \n",
    "            x, y, z = joints[joint]\n",
    "            xs.append(x)\n",
    "            ys.append(y)\n",
    "            zs.append(z)\n",
    "\n",
    "    ax.scatter(xs, ys, zs, color='blue')\n",
    "    for conn in connections_updated:\n",
    "        if conn[0] in joints and conn[1] in joints: \n",
    "            x_vals = [joints[conn[0]][0], joints[conn[1]][0]]\n",
    "            y_vals = [joints[conn[0]][1], joints[conn[1]][1]]\n",
    "            z_vals = [joints[conn[0]][2], joints[conn[1]][2]]\n",
    "            ax.plot(x_vals, y_vals, z_vals, color='red')\n",
    "\n",
    "    ax.set_xlim([x_min, x_max])\n",
    "    ax.set_ylim([y_min, y_max])\n",
    "    ax.set_zlim([z_min, z_max])\n",
    "\n",
    "    ax.grid(True)\n",
    "    ax.set_xlabel('X Axis')\n",
    "    ax.set_ylabel('Y Axis')\n",
    "    ax.set_zlabel('Z Axis')\n",
    "\n",
    "def output_gif(normalized_df, pth):\n",
    "    joint_coords_updated = {}\n",
    "    for joint in joint_names_updated:\n",
    "        joint_coords_updated[joint] = normalized_df[[f'{joint}_x', f'{joint}_y', f'{joint}_z']].values\n",
    "\n",
    "    gif_images_dynamic = []\n",
    "    n_frames = 5 # 50/n_frames must be integer [1, 2, 5, 10]\n",
    "    for frame in range(0, normalized_df.shape[0], n_frames): \n",
    "        fig = plt.figure(figsize=(8, 6))\n",
    "        ax = fig.add_subplot(111, projection='3d')\n",
    "\n",
    "        ax.view_init(elev=-45, azim=-90)  \n",
    "        plot_skeleton_frame_with_axes(ax, frame, normalized_df, joint_coords_updated)\n",
    "\n",
    "        buf = io.BytesIO()\n",
    "        plt.savefig(buf, format='png')\n",
    "        buf.seek(0)\n",
    "        gif_images_dynamic.append(imageio.imread(buf))\n",
    "        buf.close()\n",
    "        plt.close(fig)  \n",
    "\n",
    "    imageio.mimsave(pth, gif_images_dynamic, fps=50/n_frames)\n",
    "\n",
    "def output_gif(normalized_df, pth):\n",
    "    joint_coords_updated = {}\n",
    "    for joint in joint_names_updated:\n",
    "        joint_coords_updated[joint] = normalized_df[[f'{joint}_x', f'{joint}_y', f'{joint}_z']].values\n",
    "\n",
    "    gif_images_dynamic = []\n",
    "    n_frames = 10  # Skip every 10th frame to reduce the GIF size\n",
    "    for frame in range(0, normalized_df.shape[0], n_frames):\n",
    "        # Use a smaller figure size to reduce resolution\n",
    "        fig = plt.figure(figsize=(4, 3))  # Adjust dimensions to lower resolution\n",
    "        ax = fig.add_subplot(111, projection='3d')\n",
    "\n",
    "        # Set the view for consistency\n",
    "        ax.view_init(elev=-45, azim=-90)\n",
    "        plot_skeleton_frame_with_axes(ax, frame, normalized_df, joint_coords_updated)\n",
    "\n",
    "        # Save the frame to a buffer\n",
    "        buf = io.BytesIO()\n",
    "        plt.savefig(buf, format='png', dpi=80)  # Lower dpi for reduced resolution\n",
    "        buf.seek(0)\n",
    "        gif_images_dynamic.append(imageio.imread(buf))  # Append the frame to the GIF\n",
    "        buf.close()\n",
    "        plt.close(fig)\n",
    "\n",
    "    # Save the GIF with reduced frame rate\n",
    "    imageio.mimsave(pth, gif_images_dynamic, fps=50/n_frames)  # Lower FPS to reduce file size"
   ]
  },
  {
   "cell_type": "code",
   "execution_count": 6,
   "metadata": {},
   "outputs": [
    {
     "name": "stdout",
     "output_type": "stream",
     "text": [
      "   pelvis_abs_x  pelvis_abs_y  pelvis_abs_z\n",
      "0        1466.9         229.4        6657.7\n",
      "1        1472.5         230.2        6683.8\n",
      "2        1475.9         230.6        6700.3\n",
      "3        1478.1         230.9        6711.0\n",
      "4        1481.5         231.4        6726.2\n",
      "Number of columns: 105\n",
      "Processed A01_T01\n",
      "Processed A02_T01\n",
      "Processed A03_T02\n",
      "Processed A04_T02\n",
      "Processed A05_T01\n",
      "Processed A07_T01\n",
      "Processed A09_T02\n",
      "Processed A10_T01\n",
      "Processed A11_T01\n",
      "Processed A13_T01\n"
     ]
    }
   ],
   "source": [
    "normalized_df = normalize_joint_positions(df, root_joint='pelvis')\n",
    "\n",
    "print(normalized_df[['pelvis_abs_x', 'pelvis_abs_y', 'pelvis_abs_z']].head())\n",
    "print(f\"Number of columns: {len(normalized_df.columns)}\")\n",
    "\n",
    "for i, path in enumerate(paths):\n",
    "    df = pd.read_csv(path)\n",
    "    df = df.iloc[:,1:]\n",
    "    normalized_df = normalize_joint_positions(df, root_joint='pelvis')\n",
    "    filename = f'skeleton_3d_normalized_{acts[i]}_{trs[i]}.gif'\n",
    "    outpth = os.path.join('outs', filename)\n",
    "    output_gif(normalized_df, outpth)\n",
    "    print(f'Processed {acts[i]}_{trs[i]}')"
   ]
  }
 ],
 "metadata": {
  "kernelspec": {
   "display_name": "capstone",
   "language": "python",
   "name": "python3"
  },
  "language_info": {
   "codemirror_mode": {
    "name": "ipython",
    "version": 3
   },
   "file_extension": ".py",
   "mimetype": "text/x-python",
   "name": "python",
   "nbconvert_exporter": "python",
   "pygments_lexer": "ipython3",
   "version": "3.12.7"
  },
  "orig_nbformat": 4
 },
 "nbformat": 4,
 "nbformat_minor": 2
}
