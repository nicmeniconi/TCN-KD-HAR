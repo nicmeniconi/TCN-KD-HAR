{
 "cells": [
  {
   "cell_type": "code",
   "execution_count": 1,
   "metadata": {},
   "outputs": [
    {
     "name": "stdout",
     "output_type": "stream",
     "text": [
      "Intel MKL WARNING: Support of Intel(R) Streaming SIMD Extensions 4.2 (Intel(R) SSE4.2) enabled only processors has been deprecated. Intel oneAPI Math Kernel Library 2025.0 will require Intel(R) Advanced Vector Extensions (Intel(R) AVX) instructions.\n",
      "Intel MKL WARNING: Support of Intel(R) Streaming SIMD Extensions 4.2 (Intel(R) SSE4.2) enabled only processors has been deprecated. Intel oneAPI Math Kernel Library 2025.0 will require Intel(R) Advanced Vector Extensions (Intel(R) AVX) instructions.\n"
     ]
    }
   ],
   "source": [
    "import os\n",
    "import sys\n",
    "import pandas as pd\n",
    "sys.path.append(os.path.dirname(os.getcwd())) #Add project dir to path\n",
    "from utils.syncUtilities import plotFramesShiftToSyncrhonizeAllSubjectsOneActivity,getMainJointFromMotAndMainBonesFromCSV, getSamplesToSynchronize, SynchronizeAndCutSignals\n",
    "# from utils.syncUtilities import FramesShift, FramesShift2, FramesShift3, FramesShift4, FramesShift5, FramesShift6"
   ]
  },
  {
   "attachments": {},
   "cell_type": "markdown",
   "metadata": {},
   "source": [
    "## Computes ideal synchronization of IMU and video data records by estimating the RMSE of shifted signals (_.mot_ and _.csv_), and writes this info into `infoToSync.csv`."
   ]
  },
  {
   "cell_type": "code",
   "execution_count": 2,
   "metadata": {},
   "outputs": [],
   "source": [
    "import utils.fileProcessing as fileutil \n",
    "import utils.plotUtilities as plotutil\n",
    "import utils.signalProcessing as signalutil"
   ]
  },
  {
   "attachments": {},
   "cell_type": "markdown",
   "metadata": {},
   "source": [
    "Set dataset root path"
   ]
  },
  {
   "cell_type": "code",
   "execution_count": 3,
   "metadata": {},
   "outputs": [],
   "source": [
    "fulldatasetpath = '/Volumes/Data_Drive/datasets/VIDIMU'"
   ]
  },
  {
   "cell_type": "code",
   "execution_count": 4,
   "metadata": {},
   "outputs": [
    {
     "name": "stdout",
     "output_type": "stream",
     "text": [
      "inpath: /Volumes/Data_Drive/datasets/VIDIMU/dataset/videoandimus\n",
      "outpath: /Volumes/Data_Drive/datasets/VIDIMU/analysis/videoandimusync\n"
     ]
    }
   ],
   "source": [
    "inpath = os.path.join(fulldatasetpath,'dataset','videoandimus')\n",
    "outpath = os.path.join(fulldatasetpath,'analysis','videoandimusync')\n",
    "if not os.path.exists(outpath):\n",
    "    os.makedirs(outpath)\n",
    "\n",
    "print(f'inpath: {inpath}')\n",
    "print(f'outpath: {outpath}')"
   ]
  },
  {
   "attachments": {},
   "cell_type": "markdown",
   "metadata": {},
   "source": [
    "### 1. Synchronization in loop for a list of subjects and activities"
   ]
  },
  {
   "cell_type": "code",
   "execution_count": 5,
   "metadata": {},
   "outputs": [],
   "source": [
    "lower_activities = [\"A01\",\"A02\",\"A03\",\"A04\"]\n",
    "upper_activities = [\"A05\",\"A06\",\"A07\",\"A08\",\"A09\",\"A10\",\"A11\",\"A12\",\"A13\"]\n",
    "dataset_activities = lower_activities + upper_activities\n",
    "activities_legend = [\"walk_forward\", \"walk_backward\", \"walk_along\",\"sit_to_stand\",\n",
    "\"move_right_arm\",\"move_left_arm\",\"drink_right_arm\",\"drink_left_arm\", \"assemble_both_arms\",\"throw_both_arms\",\n",
    "\"reachup_right_arm\",\"reachup_left_arm\",\"tear_both_arms\"]"
   ]
  },
  {
   "cell_type": "code",
   "execution_count": 6,
   "metadata": {},
   "outputs": [],
   "source": [
    "subjects = [\"S40\",\"S41\",\"S42\",  \"S44\",  \"S46\",\"S47\",\"S48\",\"S49\",\n",
    "            \"S50\",\"S51\",\"S52\",\"S53\",\"S54\",\"S55\",\"S56\",\"S57\"]"
   ]
  },
  {
   "cell_type": "code",
   "execution_count": 7,
   "metadata": {},
   "outputs": [],
   "source": [
    "RMSE_SAMPLES = 180\n",
    "FINAL_LENGTH= 180\n",
    "# FINAL_LENGTH = None\n",
    "MAX_SYNC_OVERLAP = 15"
   ]
  },
  {
   "cell_type": "code",
   "execution_count": 8,
   "metadata": {},
   "outputs": [
    {
     "name": "stdout",
     "output_type": "stream",
     "text": [
      "Activity: A01\n"
     ]
    },
    {
     "name": "stderr",
     "output_type": "stream",
     "text": [
      "/Users/niccolomeniconi/Desktop/Capstone/data_processing/vidimu-tools/utils/syncUtilities.py:183: FutureWarning: The behavior of DataFrame concatenation with empty or all-NA entries is deprecated. In a future version, this will no longer exclude empty or all-NA columns when determining the result dtypes. To retain the old behavior, exclude the relevant entries before the concat operation.\n",
      "  dfchanges = pd.concat([dfchanges,entry],ignore_index=True)\n"
     ]
    },
    {
     "name": "stdout",
     "output_type": "stream",
     "text": [
      "Activity: A02\n",
      "Activity: A03\n",
      "Activity: A04\n",
      "Activity: A05\n",
      "Activity: A06\n",
      "Activity: A07\n",
      "Activity: A08\n",
      "Activity: A09\n",
      "Activity: A10\n",
      "Activity: A11\n",
      "Activity: A12\n",
      "Activity: A13\n"
     ]
    }
   ],
   "source": [
    "from utils.syncUtilities import FramesShift14\n",
    "rmse_lists = []\n",
    "index_activity = 0\n",
    "\n",
    "csvlog = 'infoToSync.csv'\n",
    "# csvlog = 'infoToSync_all.csv' #FramesShift15\n",
    "\n",
    "csvlogfile = os.path.join(outpath, csvlog)\n",
    "if os.path.exists(csvlogfile):\n",
    "    os.remove(csvlogfile)\n",
    "\n",
    "for activity, legend in zip(dataset_activities, activities_legend):\n",
    "    print(\"Activity: \" + activity)\n",
    "    # rmse_list = plotFramesShiftToSyncrhonizeAllSubjectsOneActivity(csvlog, inpath, outpath, subjects, activity, legend, None, RMSE_SAMPLES=RMSE_SAMPLES, MAX_SYNC_OVERLAP=MAX_SYNC_OVERLAP, FINAL_LENGTH=FINAL_LENGTH)\n",
    "    rmse_list = FramesShift14(csvlog, inpath, outpath, subjects, activity, legend, None, RMSE_SAMPLES=RMSE_SAMPLES, MAX_SYNC_OVERLAP=MAX_SYNC_OVERLAP, FINAL_LENGTH=FINAL_LENGTH)"
   ]
  }
 ],
 "metadata": {
  "kernelspec": {
   "display_name": "Python 3.11.10 ('capstone')",
   "language": "python",
   "name": "python3"
  },
  "language_info": {
   "codemirror_mode": {
    "name": "ipython",
    "version": 3
   },
   "file_extension": ".py",
   "mimetype": "text/x-python",
   "name": "python",
   "nbconvert_exporter": "python",
   "pygments_lexer": "ipython3",
   "version": "3.11.10"
  },
  "orig_nbformat": 4,
  "vscode": {
   "interpreter": {
    "hash": "da71b6a465872c0644f9fc84974b8bb2b3b11239b63eeaae921e05b07a27761a"
   }
  }
 },
 "nbformat": 4,
 "nbformat_minor": 2
}
