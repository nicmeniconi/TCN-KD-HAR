{
 "cells": [
  {
   "cell_type": "code",
   "execution_count": 1,
   "metadata": {},
   "outputs": [
    {
     "name": "stdout",
     "output_type": "stream",
     "text": [
      "Intel MKL WARNING: Support of Intel(R) Streaming SIMD Extensions 4.2 (Intel(R) SSE4.2) enabled only processors has been deprecated. Intel oneAPI Math Kernel Library 2025.0 will require Intel(R) Advanced Vector Extensions (Intel(R) AVX) instructions.\n",
      "Intel MKL WARNING: Support of Intel(R) Streaming SIMD Extensions 4.2 (Intel(R) SSE4.2) enabled only processors has been deprecated. Intel oneAPI Math Kernel Library 2025.0 will require Intel(R) Advanced Vector Extensions (Intel(R) AVX) instructions.\n"
     ]
    }
   ],
   "source": [
    "import os\n",
    "import sys\n",
    "import pandas as pd\n",
    "sys.path.append(os.path.dirname(os.getcwd())) #Add project dir to path\n",
    "from utils.syncUtilities import plotFramesShiftToSyncrhonizeAllSubjectsOneActivity,getMainJointFromMotAndMainBonesFromCSV, getSamplesToSynchronize, SynchronizeAndCutSignals"
   ]
  },
  {
   "cell_type": "code",
   "execution_count": 2,
   "metadata": {},
   "outputs": [],
   "source": [
    "import utils.fileProcessing as fileutil "
   ]
  },
  {
   "attachments": {},
   "cell_type": "markdown",
   "metadata": {},
   "source": [
    "## Modifies VIDIMU text dataset files for estimated ideal synchronization according to `infoToSync.csv`."
   ]
  },
  {
   "attachments": {},
   "cell_type": "markdown",
   "metadata": {},
   "source": [
    "Set dataset root path"
   ]
  },
  {
   "cell_type": "code",
   "execution_count": 3,
   "metadata": {},
   "outputs": [],
   "source": [
    "fulldatasetpath = '/Volumes/Data_Drive/datasets/VIDIMU'"
   ]
  },
  {
   "cell_type": "code",
   "execution_count": 4,
   "metadata": {},
   "outputs": [],
   "source": [
    "inpath = os.path.join(fulldatasetpath,'dataset','videoandimus')\n",
    "inpathcsv = os.path.join(fulldatasetpath,'analysis','videoandimusync')\n",
    "outpath = os.path.join(fulldatasetpath,'dataset','videoandimusync')\n",
    "# outpath = os.path.join(fulldatasetpath,'dataset','videoandimusync_all')\n",
    "if not os.path.exists(outpath):\n",
    "    os.makedirs(outpath)"
   ]
  },
  {
   "attachments": {},
   "cell_type": "markdown",
   "metadata": {},
   "source": [
    "Load infotosync file"
   ]
  },
  {
   "cell_type": "code",
   "execution_count": 5,
   "metadata": {},
   "outputs": [
    {
     "data": {
      "text/html": [
       "<div>\n",
       "<style scoped>\n",
       "    .dataframe tbody tr th:only-of-type {\n",
       "        vertical-align: middle;\n",
       "    }\n",
       "\n",
       "    .dataframe tbody tr th {\n",
       "        vertical-align: top;\n",
       "    }\n",
       "\n",
       "    .dataframe thead th {\n",
       "        text-align: right;\n",
       "    }\n",
       "</style>\n",
       "<table border=\"1\" class=\"dataframe\">\n",
       "  <thead>\n",
       "    <tr style=\"text-align: right;\">\n",
       "      <th></th>\n",
       "      <th>Subject</th>\n",
       "      <th>Activity</th>\n",
       "      <th>Trial</th>\n",
       "      <th>File</th>\n",
       "      <th>Type</th>\n",
       "      <th>CutFrames</th>\n",
       "      <th>OrigRmse</th>\n",
       "      <th>TheoRmse</th>\n",
       "    </tr>\n",
       "  </thead>\n",
       "  <tbody>\n",
       "    <tr>\n",
       "      <th>0</th>\n",
       "      <td>S40</td>\n",
       "      <td>A01</td>\n",
       "      <td>T01</td>\n",
       "      <td>/Volumes/Data_Drive/datasets/VIDIMU/dataset/vi...</td>\n",
       "      <td>raw</td>\n",
       "      <td>0</td>\n",
       "      <td>2.867388</td>\n",
       "      <td>2.867388</td>\n",
       "    </tr>\n",
       "    <tr>\n",
       "      <th>1</th>\n",
       "      <td>S40</td>\n",
       "      <td>A01</td>\n",
       "      <td>T01</td>\n",
       "      <td>/Volumes/Data_Drive/datasets/VIDIMU/dataset/vi...</td>\n",
       "      <td>mot</td>\n",
       "      <td>0</td>\n",
       "      <td>2.867388</td>\n",
       "      <td>2.867388</td>\n",
       "    </tr>\n",
       "    <tr>\n",
       "      <th>2</th>\n",
       "      <td>S40</td>\n",
       "      <td>A01</td>\n",
       "      <td>T01</td>\n",
       "      <td>/Volumes/Data_Drive/datasets/VIDIMU/dataset/vi...</td>\n",
       "      <td>mp4</td>\n",
       "      <td>0</td>\n",
       "      <td>2.867388</td>\n",
       "      <td>2.867388</td>\n",
       "    </tr>\n",
       "    <tr>\n",
       "      <th>3</th>\n",
       "      <td>S40</td>\n",
       "      <td>A01</td>\n",
       "      <td>T01</td>\n",
       "      <td>/Volumes/Data_Drive/datasets/VIDIMU/dataset/vi...</td>\n",
       "      <td>csv</td>\n",
       "      <td>0</td>\n",
       "      <td>2.867388</td>\n",
       "      <td>2.867388</td>\n",
       "    </tr>\n",
       "    <tr>\n",
       "      <th>4</th>\n",
       "      <td>S40</td>\n",
       "      <td>A02</td>\n",
       "      <td>T01</td>\n",
       "      <td>/Volumes/Data_Drive/datasets/VIDIMU/dataset/vi...</td>\n",
       "      <td>raw</td>\n",
       "      <td>0</td>\n",
       "      <td>4.181753</td>\n",
       "      <td>4.181753</td>\n",
       "    </tr>\n",
       "  </tbody>\n",
       "</table>\n",
       "</div>"
      ],
      "text/plain": [
       "  Subject Activity Trial                                               File  \\\n",
       "0     S40      A01   T01  /Volumes/Data_Drive/datasets/VIDIMU/dataset/vi...   \n",
       "1     S40      A01   T01  /Volumes/Data_Drive/datasets/VIDIMU/dataset/vi...   \n",
       "2     S40      A01   T01  /Volumes/Data_Drive/datasets/VIDIMU/dataset/vi...   \n",
       "3     S40      A01   T01  /Volumes/Data_Drive/datasets/VIDIMU/dataset/vi...   \n",
       "4     S40      A02   T01  /Volumes/Data_Drive/datasets/VIDIMU/dataset/vi...   \n",
       "\n",
       "  Type  CutFrames  OrigRmse  TheoRmse  \n",
       "0  raw          0  2.867388  2.867388  \n",
       "1  mot          0  2.867388  2.867388  \n",
       "2  mp4          0  2.867388  2.867388  \n",
       "3  csv          0  2.867388  2.867388  \n",
       "4  raw          0  4.181753  4.181753  "
      ]
     },
     "execution_count": 5,
     "metadata": {},
     "output_type": "execute_result"
    }
   ],
   "source": [
    "csvlog='infoToSync.csv'\n",
    "csvlogfile = os.path.join(inpathcsv,csvlog)\n",
    "try:\n",
    "    dfsync = pd.read_csv(csvlogfile)\n",
    "except FileNotFoundError:\n",
    "    print(\"Can't find \",csvlogfile)\n",
    "\n",
    "# dfsync.head()\n",
    "dfsync.head()"
   ]
  },
  {
   "attachments": {},
   "cell_type": "markdown",
   "metadata": {},
   "source": [
    "### Modify text files (.raw, .mot, .csv) --> folder videoandimussync"
   ]
  },
  {
   "cell_type": "code",
   "execution_count": 6,
   "metadata": {},
   "outputs": [],
   "source": [
    "subjects = [\"S40\",\"S41\",\"S42\",  \"S44\",  \"S46\",\"S47\",\"S48\",\"S49\",\n",
    "            \"S50\",\"S51\",\"S52\",\"S53\",\"S54\",\"S55\",\"S56\",\"S57\"]"
   ]
  },
  {
   "cell_type": "code",
   "execution_count": 7,
   "metadata": {},
   "outputs": [],
   "source": [
    "for index,row in dfsync.iterrows():\n",
    "    subject = row['Subject']\n",
    "    if subject not in subjects:\n",
    "        print('Skip subject')\n",
    "        continue\n",
    "    file = row['File']\n",
    "    type = row['Type']\n",
    "    frames = row['CutFrames']\n",
    "    outfile=file.replace(inpath,outpath)\n",
    "    # print(f'infile: {file}, outfile: {outfile}')\n",
    "    if frames != 0:\n",
    "        if type == 'mp4':\n",
    "            # print(\"Skip video\")\n",
    "            continue\n",
    "        if not os.path.exists(os.path.dirname(outfile)):\n",
    "            print(\"Creating directory: \", os.path.dirname(outfile))\n",
    "            os.mkdir(os.path.dirname(outfile))\n",
    "        if type == 'raw':\n",
    "            lines_per_frame = 5*(50/30) #5 sensors per frame and 50 Hz in IMUs vs 30 Hz in video\n",
    "            row_start = 2\n",
    "            fileutil.remove_insidelines_file(file,row_start,int(frames*lines_per_frame),outfile)\n",
    "        elif type == 'mot':\n",
    "            lines_per_frame = 50/30 #5 sensors per frame and 50 Hz in IMUs vs 30 Hz in video\n",
    "            row_start = 9\n",
    "            fileutil.remove_insidelines_file(file,row_start,int(frames*lines_per_frame),outfile)\n",
    "        elif type == 'csv':\n",
    "            lines_per_frame = 1 #video\n",
    "            row_start = 2\n",
    "            fileutil.remove_insidelines_file(file,row_start,frames*lines_per_frame,outfile)\n",
    "        else:\n",
    "            continue\n",
    "\n"
   ]
  },
  {
   "cell_type": "code",
   "execution_count": null,
   "metadata": {},
   "outputs": [],
   "source": []
  }
 ],
 "metadata": {
  "kernelspec": {
   "display_name": "Python 3.11.10",
   "language": "python",
   "name": "python3"
  },
  "language_info": {
   "codemirror_mode": {
    "name": "ipython",
    "version": 3
   },
   "file_extension": ".py",
   "mimetype": "text/x-python",
   "name": "python",
   "nbconvert_exporter": "python",
   "pygments_lexer": "ipython3",
   "version": "3.11.10"
  },
  "orig_nbformat": 4,
  "vscode": {
   "interpreter": {
    "hash": "da71b6a465872c0644f9fc84974b8bb2b3b11239b63eeaae921e05b07a27761a"
   }
  }
 },
 "nbformat": 4,
 "nbformat_minor": 2
}
